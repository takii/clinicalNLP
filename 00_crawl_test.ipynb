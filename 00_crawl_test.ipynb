{
 "cells": [
  {
   "cell_type": "markdown",
   "metadata": {},
   "source": [
    "### Import and Logger"
   ]
  },
  {
   "cell_type": "code",
   "execution_count": 1,
   "metadata": {},
   "outputs": [],
   "source": [
    "import csv\n",
    "import requests\n",
    "import pandas as pd\n",
    "from bs4 import BeautifulSoup\n",
    "\n",
    "from log import CrawlerLog\n",
    "\n",
    "DISEASE_NAME = 'mers'\n",
    "RAW_DATA_PATH = './rawdata'\n",
    "crawer_log = CrawlerLog(DISEASE_NAME)"
   ]
  },
  {
   "cell_type": "markdown",
   "metadata": {},
   "source": [
    "## Load Data"
   ]
  },
  {
   "cell_type": "code",
   "execution_count": 2,
   "metadata": {
    "scrolled": false
   },
   "outputs": [
    {
     "name": "stdout",
     "output_type": "stream",
     "text": [
      "(39, 27)\n"
     ]
    }
   ],
   "source": [
    "data = pd.read_csv(f'{RAW_DATA_PATH}/{DISEASE_NAME}.csv')\n",
    "print(data.shape)"
   ]
  },
  {
   "cell_type": "markdown",
   "metadata": {},
   "source": [
    "### append column with initialize"
   ]
  },
  {
   "cell_type": "code",
   "execution_count": 3,
   "metadata": {},
   "outputs": [],
   "source": [
    "data['field1'] = ''\n",
    "data['inclusion_creteria'] = ''\n",
    "data['field2'] = ''\n",
    "data['exclusion_creteria'] = ''"
   ]
  },
  {
   "cell_type": "markdown",
   "metadata": {},
   "source": [
    "## Crawl Data"
   ]
  },
  {
   "cell_type": "markdown",
   "metadata": {},
   "source": [
    "### 데이터 요청 및 수집"
   ]
  },
  {
   "cell_type": "code",
   "execution_count": 4,
   "metadata": {},
   "outputs": [],
   "source": [
    "# cretria 영역 파싱\n",
    "def get_data(text):\n",
    "    soup = BeautifulSoup(text, 'lxml')\n",
    "    creteria_area = soup.find('div', string='Criteria').find_next_siblings()[0]\n",
    "    contents = list(creteria_area.find_all(True, recursive=False))\n",
    "    return contents\n",
    "\n",
    "def parse_creteria(li_tags):\n",
    "    return '\\n'.join(map(lambda li: li.text, li_tags)) or ''"
   ]
  },
  {
   "cell_type": "markdown",
   "metadata": {},
   "source": [
    "### creteria contents 예외 처리"
   ]
  },
  {
   "cell_type": "code",
   "execution_count": 5,
   "metadata": {},
   "outputs": [
    {
     "name": "stderr",
     "output_type": "stream",
     "text": [
      "https://ClinicalTrials.gov/show/NCT02788188,Exclusion\n",
      "https://ClinicalTrials.gov/show/NCT00843882,Exclusion\n"
     ]
    }
   ],
   "source": [
    "for index in range(1, data.shape[0]):\n",
    "    # check 200\n",
    "    url = data.at[(index, 'URL')]\n",
    "    response = requests.get(url)\n",
    "    if response.status_code != 200:\n",
    "        crawer_log.logger.error(f'{url},INVALID URL,{response.status_code}')\n",
    "    else:\n",
    "        contents = get_data(response.text)\n",
    "    # 컬럼 지정\n",
    "    try:\n",
    "        data.loc[index, 'field1'] = contents[0].text or ''\n",
    "        data.loc[index, 'inclusion_creteria'] = parse_creteria(contents[1].select('li'))\n",
    "    except:\n",
    "        crawer_log.logger.debug(f'{url},Inclusion')\n",
    "\n",
    "    try:\n",
    "        data.loc[index, 'field2'] = contents[2].text or ''\n",
    "        data.loc[index, 'exclusion_creteria'] = parse_creteria(contents[3].select('li'))\n",
    "    except:\n",
    "        crawer_log.logger.debug(f'{url},Exclusion')"
   ]
  },
  {
   "cell_type": "code",
   "execution_count": 6,
   "metadata": {},
   "outputs": [],
   "source": [
    "data.to_csv(f'./result/{DISEASE_NAME}.csv')"
   ]
  }
 ],
 "metadata": {
  "kernelspec": {
   "display_name": "Python 3",
   "language": "python",
   "name": "python3"
  },
  "language_info": {
   "codemirror_mode": {
    "name": "ipython",
    "version": 3
   },
   "file_extension": ".py",
   "mimetype": "text/x-python",
   "name": "python",
   "nbconvert_exporter": "python",
   "pygments_lexer": "ipython3",
   "version": "3.6.7"
  }
 },
 "nbformat": 4,
 "nbformat_minor": 2
}
